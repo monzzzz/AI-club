{
 "cells": [
  {
   "cell_type": "code",
   "execution_count": 30,
   "metadata": {},
   "outputs": [
    {
     "name": "stdout",
     "output_type": "stream",
     "text": [
      "Requirement already satisfied: pandas in /home/elmond/miniconda3/envs/rag/lib/python3.12/site-packages (2.2.3)\n",
      "Requirement already satisfied: numpy>=1.26.0 in /home/elmond/miniconda3/envs/rag/lib/python3.12/site-packages (from pandas) (2.1.1)\n",
      "Requirement already satisfied: python-dateutil>=2.8.2 in /home/elmond/miniconda3/envs/rag/lib/python3.12/site-packages (from pandas) (2.9.0)\n",
      "Requirement already satisfied: pytz>=2020.1 in /home/elmond/miniconda3/envs/rag/lib/python3.12/site-packages (from pandas) (2024.2)\n",
      "Requirement already satisfied: tzdata>=2022.7 in /home/elmond/miniconda3/envs/rag/lib/python3.12/site-packages (from pandas) (2024.2)\n",
      "Requirement already satisfied: six>=1.5 in /home/elmond/miniconda3/envs/rag/lib/python3.12/site-packages (from python-dateutil>=2.8.2->pandas) (1.16.0)\n",
      "Requirement already satisfied: requests in /home/elmond/miniconda3/envs/rag/lib/python3.12/site-packages (2.32.3)\n",
      "Requirement already satisfied: charset-normalizer<4,>=2 in /home/elmond/miniconda3/envs/rag/lib/python3.12/site-packages (from requests) (3.3.2)\n",
      "Requirement already satisfied: idna<4,>=2.5 in /home/elmond/miniconda3/envs/rag/lib/python3.12/site-packages (from requests) (3.10)\n",
      "Requirement already satisfied: urllib3<3,>=1.21.1 in /home/elmond/miniconda3/envs/rag/lib/python3.12/site-packages (from requests) (2.2.3)\n",
      "Requirement already satisfied: certifi>=2017.4.17 in /home/elmond/miniconda3/envs/rag/lib/python3.12/site-packages (from requests) (2024.8.30)\n",
      "Collecting beautifulsoup4\n",
      "  Using cached beautifulsoup4-4.12.3-py3-none-any.whl.metadata (3.8 kB)\n",
      "Collecting soupsieve>1.2 (from beautifulsoup4)\n",
      "  Using cached soupsieve-2.6-py3-none-any.whl.metadata (4.6 kB)\n",
      "Using cached beautifulsoup4-4.12.3-py3-none-any.whl (147 kB)\n",
      "Using cached soupsieve-2.6-py3-none-any.whl (36 kB)\n",
      "Installing collected packages: soupsieve, beautifulsoup4\n",
      "Successfully installed beautifulsoup4-4.12.3 soupsieve-2.6\n"
     ]
    }
   ],
   "source": [
    "!pip install pandas\n",
    "!pip install requests\n",
    "!pip install beautifulsoup4"
   ]
  },
  {
   "cell_type": "code",
   "execution_count": 31,
   "metadata": {},
   "outputs": [],
   "source": [
    "import pandas as pd\n",
    "import requests\n",
    "from bs4 import BeautifulSoup"
   ]
  },
  {
   "cell_type": "markdown",
   "metadata": {},
   "source": [
    "## Scrap the school website (smus.ca)"
   ]
  },
  {
   "cell_type": "code",
   "execution_count": 32,
   "metadata": {},
   "outputs": [
    {
     "name": "stdout",
     "output_type": "stream",
     "text": [
      "0                                  https://www.smus.ca/\n",
      "1                        https://www.smus.ca/admissions\n",
      "2           https://www.smus.ca/admissions/publications\n",
      "3                     https://www.smus.ca/middle-school\n",
      "4          https://www.smus.ca/admissions/international\n",
      "                            ...                        \n",
      "94    https://www.smus.ca/news/value-added-smus-educ...\n",
      "95       https://www.smus.ca/news/a-warm-welcome-awaits\n",
      "96    https://www.smus.ca/news/gallery-happy-diwali-...\n",
      "97    https://www.smus.ca/news/video-primary-christm...\n",
      "98    https://www.smus.ca/news/long-tradition-financ...\n",
      "Name: URL, Length: 99, dtype: object\n"
     ]
    }
   ],
   "source": [
    "df = pd.read_csv('smus_page.csv')\n",
    "url_df = df[\"URL\"]\n",
    "print(url_df)\n",
    "url_list = url_df.tolist()\n",
    "\n",
    "def open_url(url):\n",
    "    response = requests.get(url)\n",
    "    \n",
    "    soup = BeautifulSoup(response.text, 'html.parser')\n",
    "    \n",
    "    important_content = \"\"\n",
    "    \n",
    "    for tag in soup.find_all(['h1', 'h2', 'h3', 'h4', 'h5', 'h6', 'p']):\n",
    "        important_content += tag.get_text(strip=True) + \" \"\n",
    "    return important_content\n",
    "\n",
    "content_list = [content for url in url_list if (content := open_url(url))]\n",
    "df.iloc[:len(content_list), 1] = content_list\n"
   ]
  },
  {
   "cell_type": "code",
   "execution_count": 51,
   "metadata": {},
   "outputs": [
    {
     "name": "stdout",
     "output_type": "stream",
     "text": [
      "0.0\n",
      "299.2\n",
      "996.8\n",
      "1230.6\n",
      "1792.4\n",
      "2225.8\n",
      "2483.0\n",
      "3132.8\n",
      "3731.6\n",
      "3788.2\n",
      "4040.8\n",
      "4785.0\n",
      "4841.6\n",
      "4936.6\n",
      "5138.6\n",
      "5785.0\n",
      "6799.2\n",
      "7402.8\n",
      "7982.6\n",
      "8145.2\n",
      "8971.2\n",
      "9898.8\n",
      "10763.4\n",
      "12140.0\n",
      "12682.8\n",
      "12920.8\n",
      "14918.8\n",
      "15284.0\n",
      "16442.6\n",
      "16484.6\n",
      "16618.6\n",
      "18040.4\n",
      "19492.2\n",
      "19762.4\n",
      "20233.6\n",
      "20266.0\n",
      "20299.0\n",
      "20355.6\n",
      "20502.0\n",
      "23669.6\n",
      "23890.4\n",
      "24151.6\n",
      "24667.4\n",
      "25081.6\n",
      "25585.0\n",
      "27342.6\n",
      "27978.6\n",
      "28434.4\n",
      "29267.6\n",
      "29982.4\n",
      "30808.4\n",
      "31110.8\n",
      "31683.0\n",
      "32232.2\n",
      "32899.6\n",
      "33561.0\n",
      "33887.2\n",
      "35414.4\n",
      "36495.4\n",
      "36909.0\n",
      "37539.2\n",
      "38250.8\n",
      "39072.6\n",
      "42805.4\n",
      "43047.2\n",
      "44221.4\n",
      "44405.2\n",
      "44725.0\n",
      "44890.4\n",
      "45206.2\n",
      "45761.4\n",
      "45845.0\n",
      "46039.4\n",
      "46155.2\n",
      "46598.8\n",
      "46797.4\n",
      "47383.4\n",
      "47526.0\n",
      "47738.2\n",
      "47919.8\n",
      "48093.4\n",
      "49393.6\n",
      "49510.6\n",
      "49728.4\n",
      "50453.4\n",
      "51201.0\n",
      "51692.0\n",
      "52800.2\n",
      "53429.6\n",
      "54599.4\n",
      "55376.6\n",
      "56108.0\n",
      "56600.8\n",
      "57104.2\n",
      "57466.4\n",
      "len of every page content:  290920\n",
      "average per page 2938.5858585858587\n"
     ]
    }
   ],
   "source": [
    "# (len(content) for content in content_list if content is not None)\n",
    "sum = 0\n",
    "for content in content_list:\n",
    "    if content is not None:\n",
    "        print(sum/5)\n",
    "        sum += len(content)\n",
    "    else:\n",
    "        print(\"None\")\n",
    "print(\"len of every page content: \", sum)\n",
    "print(\"average per page\", sum/len(df[\"Page Content\"]))"
   ]
  },
  {
   "cell_type": "code",
   "execution_count": 57,
   "metadata": {},
   "outputs": [],
   "source": [
    "df.to_csv('smus_page.csv', index=False)"
   ]
  }
 ],
 "metadata": {
  "kernelspec": {
   "display_name": "rag",
   "language": "python",
   "name": "python3"
  },
  "language_info": {
   "codemirror_mode": {
    "name": "ipython",
    "version": 3
   },
   "file_extension": ".py",
   "mimetype": "text/x-python",
   "name": "python",
   "nbconvert_exporter": "python",
   "pygments_lexer": "ipython3",
   "version": "3.12.6"
  }
 },
 "nbformat": 4,
 "nbformat_minor": 2
}
