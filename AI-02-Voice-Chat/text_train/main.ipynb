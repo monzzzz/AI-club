{
 "cells": [
  {
   "cell_type": "code",
   "execution_count": 12,
   "metadata": {},
   "outputs": [],
   "source": [
    "import pandas as pd\n",
    "from rag import get_embedding\n",
    "import numpy as np\n",
    "import torch\n",
    "import os\n",
    "import torch.nn.functional as F\n",
    "from langchain_openai.chat_models import ChatOpenAI \n",
    "import random  "
   ]
  },
  {
   "cell_type": "code",
   "execution_count": 8,
   "metadata": {},
   "outputs": [
    {
     "name": "stderr",
     "output_type": "stream",
     "text": [
      "/opt/anaconda3/envs/voice-chat-python3-11/lib/python3.11/site-packages/transformers/tokenization_utils_base.py:1601: FutureWarning: `clean_up_tokenization_spaces` was not set. It will be set to `True` by default. This behavior will be depracted in transformers v4.45, and will be then set to `False` by default. For more details check this issue: https://github.com/huggingface/transformers/issues/31884\n",
      "  warnings.warn(\n"
     ]
    },
    {
     "data": {
      "text/plain": [
       "torch.Size([1, 279, 768])"
      ]
     },
     "execution_count": 8,
     "metadata": {},
     "output_type": "execute_result"
    }
   ],
   "source": [
    "df = pd.read_csv('smus_page.csv')\n",
    "df.head()\n",
    "df.shape"
   ]
  },
  {
   "cell_type": "code",
   "execution_count": 13,
   "metadata": {},
   "outputs": [
    {
     "data": {
      "text/plain": [
       "[{'page number': 80,\n",
       "  'page_char_count': 6501,\n",
       "  'page_word_count': 1008,\n",
       "  'page_sentence_count': 56,\n",
       "  'page_token_count': 1625.25,\n",
       "  'text': '   Breadcrumb Privacy Policy We at St. Michaels University School want you, our parents, students and staff, to be aware of how and why we handle your personal information. We work hard to respect and maintain your privacy. However, the very nature of our business is such that the collection, use and disclosure of personal information is fundamental to the services we provide. SMUS has adopted these privacy principles, which apply to the collection, use and disclosure of personal information. Personal information, for the purposes of these privacy principles, means information that identifies an individual. For example: an individual’s name, birth date, address, age, health and financial information is personal information which SMUS may collect, use and in certain circumstances, where necessary, disclose, in the course of carrying on business. You may obtain our most up to date version from this web page or by contacting us at the address set out below in the section called Contacting the SMUS Privacy Officer. 1. Consent and Personal Information SMUS obtains consent for the collection, use and disclosure of personal information, except where inappropriate. In obtaining consent to the collection, use and disclosure of personal information, the purpose for which information is collected, used or disclosed is either obvious by the very nature of the transaction or if not, we state the purpose, either at or before the time the\\xa0information is collected. When we do collect personal information, we collect only that personal information which is necessary to such obvious or stated purpose. You may decline to consent, or revoke your consent, to the collection and use of your personal information for these purposes but if you do the services that we can provide to you may be limited. SMUS may also collect and use personal information for school advancement and development purposes or for Parents’ Auxiliary activities. This may result in identifying and communicating with individuals who are likely to participate in school advancement and development or Parents’ Auxiliary activities. Your consent to this use of your personal information is voluntary. You may opt not to have us use your personal information for this purpose. If you do this, we will collect and use your personal information only for school purposes and in accordance with our contractual rights and obligations, but we will not use your personal information for advancement, development or Parents’ Auxiliary purposes. Please refer to the section of these privacy principles called “Contacting the SMUS Privacy Officer” for information on how to decline or revoke your consent to the use of your personal information for advancement or development purposes. 2. Collecting Personal Information Whenever practical, we collect information directly from the individual. We log information about visitor activity on our website to help us monitor site performance and provide you with a better experience. We also collect information for the purpose of marketing, including online advertising opportunities such as retargeting. Retargeting requires that cookies are stored on your computer. This is standard practice on the web and these cookies are not harmful. They inform SMUS’s advertising partners that you previously visited a SMUS website but they do not provide SMUS with personally identifiable information. If you wish to opt-out of the most common form of retargeting, Google advertising, you can set your preferences atgoogle.com/settings/ads. 3. Using Personal Information We use personal information in accordance with the consent provided by the individual to whom the information relates, in accordance with these privacy principles, our contractual rights and obligations and the law. Personal information shall not be used by SMUS employees and representatives for purposes other than as required in the performance of their employment duties. 4. Accuracy of Your Personal Information SMUS maintains procedures to ensure that the information we collect and use is accurate, up-to-date, and as complete as possible. However, we rely on you to disclose all material information to us and to inform us of any changes. You may, with proof of entitlement, request to access and, if applicable, request that we correct information in our possession. You may make this request by writing to our privacy officer at the address in the section called “Contacting the SMUS Privacy Officer.” 5. Safeguarding Your Information We apply appropriate safeguards to our computer networks and physical files and we restrict access to personal information about you to those SMUS employees and authorized administrators who need to know that information in order to administer your services. 6. Disclosure of Personal Information We do not sell our customer lists or other personal information. 7. Retention and Access to Your Personal Information We retain personal information only for so long as is necessary to fulfill the purpose for which it was collected and to meet our legal and contractual obligations. If personal information is no longer required, it will be destroyed or rendered anonymous. If you have a right of access, you or a person authorized in writing to act on your behalf may, with satisfactory identification and proof of entitlement, request access or, if applicable, request a correction of your personal information which SMUS has in its possession. The right to access is not absolute. For example, you do not have a right to access and we may decline your request for access if the information requested is subject to a legal privilege. We do not provide personal health information directly to individuals unless the individual provided it directly to us. Instead we provide access to personal health information through the individual’s health-care professional. 8. Contacting the SMUS Privacy and Information Sharing Officer Please contact us if you: Please include your name, address and, if applicable, your student number. The Privacy and Information Sharing OfficerRita Lord, CFOSt. Michaels University School3400 Richmond RdVictoria, BCV8P 4P5Email:privacy@smus.ca St. Michaels University School is an independent day and boarding school of 1,000 students from Junior Kindergarten to Grade 12 in Victoria, BC, Canada. Main Reception 3400 Richmond Road Victoria, BC, Canada, V8P 4P5 © St. Michaels University SchoolWebsite Feedback We are a proud member of: Event Details    '}]"
      ]
     },
     "execution_count": 13,
     "metadata": {},
     "output_type": "execute_result"
    }
   ],
   "source": [
    "pages_and_text = []\n",
    "for index, page in enumerate(df[\"Page Content\"].tolist()):\n",
    "    pages_and_text.append({\"page number\": index,\n",
    "                           \"page_char_count\": len(page),\n",
    "                           \"page_word_count\": len(page.split(\" \")),\n",
    "                           \"page_sentence_count\": len(page.split(\".\")),\n",
    "                           \"page_token_count\": len(page)/4, # 1 token ~ 4 characters\n",
    "                           \"text\": page})\n",
    "random.sample(pages_and_text, 1)"
   ]
  },
  {
   "cell_type": "code",
   "execution_count": 14,
   "metadata": {},
   "outputs": [
    {
     "data": {
      "text/html": [
       "<div>\n",
       "<style scoped>\n",
       "    .dataframe tbody tr th:only-of-type {\n",
       "        vertical-align: middle;\n",
       "    }\n",
       "\n",
       "    .dataframe tbody tr th {\n",
       "        vertical-align: top;\n",
       "    }\n",
       "\n",
       "    .dataframe thead th {\n",
       "        text-align: right;\n",
       "    }\n",
       "</style>\n",
       "<table border=\"1\" class=\"dataframe\">\n",
       "  <thead>\n",
       "    <tr style=\"text-align: right;\">\n",
       "      <th></th>\n",
       "      <th>page number</th>\n",
       "      <th>page_char_count</th>\n",
       "      <th>page_word_count</th>\n",
       "      <th>page_sentence_count</th>\n",
       "      <th>page_token_count</th>\n",
       "      <th>text</th>\n",
       "    </tr>\n",
       "  </thead>\n",
       "  <tbody>\n",
       "    <tr>\n",
       "      <th>0</th>\n",
       "      <td>0</td>\n",
       "      <td>1496</td>\n",
       "      <td>241</td>\n",
       "      <td>14</td>\n",
       "      <td>374.00</td>\n",
       "      <td>Explore Cookie Settings When you visit any...</td>\n",
       "    </tr>\n",
       "    <tr>\n",
       "      <th>1</th>\n",
       "      <td>1</td>\n",
       "      <td>3488</td>\n",
       "      <td>567</td>\n",
       "      <td>30</td>\n",
       "      <td>872.00</td>\n",
       "      <td>Breadcrumb Start Here Thank you for choosin...</td>\n",
       "    </tr>\n",
       "    <tr>\n",
       "      <th>2</th>\n",
       "      <td>2</td>\n",
       "      <td>1169</td>\n",
       "      <td>194</td>\n",
       "      <td>10</td>\n",
       "      <td>292.25</td>\n",
       "      <td>Breadcrumb  Admissions Publications If you ...</td>\n",
       "    </tr>\n",
       "    <tr>\n",
       "      <th>3</th>\n",
       "      <td>3</td>\n",
       "      <td>2809</td>\n",
       "      <td>462</td>\n",
       "      <td>20</td>\n",
       "      <td>702.25</td>\n",
       "      <td>Breadcrumb Middle School The Middle School ...</td>\n",
       "    </tr>\n",
       "    <tr>\n",
       "      <th>4</th>\n",
       "      <td>4</td>\n",
       "      <td>2167</td>\n",
       "      <td>345</td>\n",
       "      <td>15</td>\n",
       "      <td>541.75</td>\n",
       "      <td>Schaffter Hall for music (left) is home to ...</td>\n",
       "    </tr>\n",
       "  </tbody>\n",
       "</table>\n",
       "</div>"
      ],
      "text/plain": [
       "   page number  page_char_count  page_word_count  page_sentence_count  \\\n",
       "0            0             1496              241                   14   \n",
       "1            1             3488              567                   30   \n",
       "2            2             1169              194                   10   \n",
       "3            3             2809              462                   20   \n",
       "4            4             2167              345                   15   \n",
       "\n",
       "   page_token_count                                               text  \n",
       "0            374.00      Explore Cookie Settings When you visit any...  \n",
       "1            872.00     Breadcrumb Start Here Thank you for choosin...  \n",
       "2            292.25     Breadcrumb  Admissions Publications If you ...  \n",
       "3            702.25     Breadcrumb Middle School The Middle School ...  \n",
       "4            541.75     Schaffter Hall for music (left) is home to ...  "
      ]
     },
     "execution_count": 14,
     "metadata": {},
     "output_type": "execute_result"
    }
   ],
   "source": [
    "df = pd.DataFrame(pages_and_text)\n",
    "df.head()"
   ]
  },
  {
   "cell_type": "code",
   "execution_count": 15,
   "metadata": {},
   "outputs": [
    {
     "data": {
      "text/html": [
       "<div>\n",
       "<style scoped>\n",
       "    .dataframe tbody tr th:only-of-type {\n",
       "        vertical-align: middle;\n",
       "    }\n",
       "\n",
       "    .dataframe tbody tr th {\n",
       "        vertical-align: top;\n",
       "    }\n",
       "\n",
       "    .dataframe thead th {\n",
       "        text-align: right;\n",
       "    }\n",
       "</style>\n",
       "<table border=\"1\" class=\"dataframe\">\n",
       "  <thead>\n",
       "    <tr style=\"text-align: right;\">\n",
       "      <th></th>\n",
       "      <th>page number</th>\n",
       "      <th>page_char_count</th>\n",
       "      <th>page_word_count</th>\n",
       "      <th>page_sentence_count</th>\n",
       "      <th>page_token_count</th>\n",
       "    </tr>\n",
       "  </thead>\n",
       "  <tbody>\n",
       "    <tr>\n",
       "      <th>count</th>\n",
       "      <td>99.0</td>\n",
       "      <td>99.0</td>\n",
       "      <td>99.0</td>\n",
       "      <td>99.0</td>\n",
       "      <td>99.0</td>\n",
       "    </tr>\n",
       "    <tr>\n",
       "      <th>mean</th>\n",
       "      <td>49.0</td>\n",
       "      <td>3041.0</td>\n",
       "      <td>528.0</td>\n",
       "      <td>24.0</td>\n",
       "      <td>760.0</td>\n",
       "    </tr>\n",
       "    <tr>\n",
       "      <th>std</th>\n",
       "      <td>29.0</td>\n",
       "      <td>2867.0</td>\n",
       "      <td>497.0</td>\n",
       "      <td>27.0</td>\n",
       "      <td>717.0</td>\n",
       "    </tr>\n",
       "    <tr>\n",
       "      <th>min</th>\n",
       "      <td>0.0</td>\n",
       "      <td>162.0</td>\n",
       "      <td>23.0</td>\n",
       "      <td>1.0</td>\n",
       "      <td>40.0</td>\n",
       "    </tr>\n",
       "    <tr>\n",
       "      <th>25%</th>\n",
       "      <td>24.0</td>\n",
       "      <td>1180.0</td>\n",
       "      <td>196.0</td>\n",
       "      <td>10.0</td>\n",
       "      <td>295.0</td>\n",
       "    </tr>\n",
       "    <tr>\n",
       "      <th>50%</th>\n",
       "      <td>49.0</td>\n",
       "      <td>2517.0</td>\n",
       "      <td>467.0</td>\n",
       "      <td>17.0</td>\n",
       "      <td>629.0</td>\n",
       "    </tr>\n",
       "    <tr>\n",
       "      <th>75%</th>\n",
       "      <td>74.0</td>\n",
       "      <td>3641.0</td>\n",
       "      <td>665.0</td>\n",
       "      <td>29.0</td>\n",
       "      <td>910.0</td>\n",
       "    </tr>\n",
       "    <tr>\n",
       "      <th>max</th>\n",
       "      <td>98.0</td>\n",
       "      <td>18664.0</td>\n",
       "      <td>3216.0</td>\n",
       "      <td>180.0</td>\n",
       "      <td>4666.0</td>\n",
       "    </tr>\n",
       "  </tbody>\n",
       "</table>\n",
       "</div>"
      ],
      "text/plain": [
       "       page number  page_char_count  page_word_count  page_sentence_count  \\\n",
       "count         99.0             99.0             99.0                 99.0   \n",
       "mean          49.0           3041.0            528.0                 24.0   \n",
       "std           29.0           2867.0            497.0                 27.0   \n",
       "min            0.0            162.0             23.0                  1.0   \n",
       "25%           24.0           1180.0            196.0                 10.0   \n",
       "50%           49.0           2517.0            467.0                 17.0   \n",
       "75%           74.0           3641.0            665.0                 29.0   \n",
       "max           98.0          18664.0           3216.0                180.0   \n",
       "\n",
       "       page_token_count  \n",
       "count              99.0  \n",
       "mean              760.0  \n",
       "std               717.0  \n",
       "min                40.0  \n",
       "25%               295.0  \n",
       "50%               629.0  \n",
       "75%               910.0  \n",
       "max              4666.0  "
      ]
     },
     "execution_count": 15,
     "metadata": {},
     "output_type": "execute_result"
    }
   ],
   "source": [
    "df.describe().round()"
   ]
  },
  {
   "cell_type": "code",
   "execution_count": null,
   "metadata": {},
   "outputs": [],
   "source": []
  }
 ],
 "metadata": {
  "kernelspec": {
   "display_name": "voice-chat-python3-11",
   "language": "python",
   "name": "python3"
  },
  "language_info": {
   "codemirror_mode": {
    "name": "ipython",
    "version": 3
   },
   "file_extension": ".py",
   "mimetype": "text/x-python",
   "name": "python",
   "nbconvert_exporter": "python",
   "pygments_lexer": "ipython3",
   "version": "3.11.10"
  }
 },
 "nbformat": 4,
 "nbformat_minor": 2
}
