{
 "cells": [
  {
   "cell_type": "code",
   "execution_count": 26,
   "metadata": {},
   "outputs": [],
   "source": [
    "import pandas as pd\n",
    "from rag import get_embedding\n",
    "import numpy as np\n",
    "import torch\n",
    "import os\n",
    "import torch.nn.functional as F\n",
    "from langchain_openai.chat_models import ChatOpenAI \n",
    "import random  \n",
    "from spacy.lang.en import English\n",
    "from tqdm.auto import tqdm"
   ]
  },
  {
   "cell_type": "markdown",
   "metadata": {},
   "source": [
    "### Read Information from CSV"
   ]
  },
  {
   "cell_type": "code",
   "execution_count": 8,
   "metadata": {},
   "outputs": [
    {
     "name": "stderr",
     "output_type": "stream",
     "text": [
      "/opt/anaconda3/envs/voice-chat-python3-11/lib/python3.11/site-packages/transformers/tokenization_utils_base.py:1601: FutureWarning: `clean_up_tokenization_spaces` was not set. It will be set to `True` by default. This behavior will be depracted in transformers v4.45, and will be then set to `False` by default. For more details check this issue: https://github.com/huggingface/transformers/issues/31884\n",
      "  warnings.warn(\n"
     ]
    },
    {
     "data": {
      "text/plain": [
       "torch.Size([1, 279, 768])"
      ]
     },
     "execution_count": 8,
     "metadata": {},
     "output_type": "execute_result"
    }
   ],
   "source": [
    "df = pd.read_csv('smus_page.csv')\n",
    "df.head()\n",
    "df.shape"
   ]
  },
  {
   "cell_type": "markdown",
   "metadata": {},
   "source": [
    "### Assigning Properties to each page"
   ]
  },
  {
   "cell_type": "code",
   "execution_count": 13,
   "metadata": {},
   "outputs": [
    {
     "data": {
      "text/plain": [
       "[{'page number': 80,\n",
       "  'page_char_count': 6501,\n",
       "  'page_word_count': 1008,\n",
       "  'page_sentence_count': 56,\n",
       "  'page_token_count': 1625.25,\n",
       "  'text': '   Breadcrumb Privacy Policy We at St. Michaels University School want you, our parents, students and staff, to be aware of how and why we handle your personal information. We work hard to respect and maintain your privacy. However, the very nature of our business is such that the collection, use and disclosure of personal information is fundamental to the services we provide. SMUS has adopted these privacy principles, which apply to the collection, use and disclosure of personal information. Personal information, for the purposes of these privacy principles, means information that identifies an individual. For example: an individual’s name, birth date, address, age, health and financial information is personal information which SMUS may collect, use and in certain circumstances, where necessary, disclose, in the course of carrying on business. You may obtain our most up to date version from this web page or by contacting us at the address set out below in the section called Contacting the SMUS Privacy Officer. 1. Consent and Personal Information SMUS obtains consent for the collection, use and disclosure of personal information, except where inappropriate. In obtaining consent to the collection, use and disclosure of personal information, the purpose for which information is collected, used or disclosed is either obvious by the very nature of the transaction or if not, we state the purpose, either at or before the time the\\xa0information is collected. When we do collect personal information, we collect only that personal information which is necessary to such obvious or stated purpose. You may decline to consent, or revoke your consent, to the collection and use of your personal information for these purposes but if you do the services that we can provide to you may be limited. SMUS may also collect and use personal information for school advancement and development purposes or for Parents’ Auxiliary activities. This may result in identifying and communicating with individuals who are likely to participate in school advancement and development or Parents’ Auxiliary activities. Your consent to this use of your personal information is voluntary. You may opt not to have us use your personal information for this purpose. If you do this, we will collect and use your personal information only for school purposes and in accordance with our contractual rights and obligations, but we will not use your personal information for advancement, development or Parents’ Auxiliary purposes. Please refer to the section of these privacy principles called “Contacting the SMUS Privacy Officer” for information on how to decline or revoke your consent to the use of your personal information for advancement or development purposes. 2. Collecting Personal Information Whenever practical, we collect information directly from the individual. We log information about visitor activity on our website to help us monitor site performance and provide you with a better experience. We also collect information for the purpose of marketing, including online advertising opportunities such as retargeting. Retargeting requires that cookies are stored on your computer. This is standard practice on the web and these cookies are not harmful. They inform SMUS’s advertising partners that you previously visited a SMUS website but they do not provide SMUS with personally identifiable information. If you wish to opt-out of the most common form of retargeting, Google advertising, you can set your preferences atgoogle.com/settings/ads. 3. Using Personal Information We use personal information in accordance with the consent provided by the individual to whom the information relates, in accordance with these privacy principles, our contractual rights and obligations and the law. Personal information shall not be used by SMUS employees and representatives for purposes other than as required in the performance of their employment duties. 4. Accuracy of Your Personal Information SMUS maintains procedures to ensure that the information we collect and use is accurate, up-to-date, and as complete as possible. However, we rely on you to disclose all material information to us and to inform us of any changes. You may, with proof of entitlement, request to access and, if applicable, request that we correct information in our possession. You may make this request by writing to our privacy officer at the address in the section called “Contacting the SMUS Privacy Officer.” 5. Safeguarding Your Information We apply appropriate safeguards to our computer networks and physical files and we restrict access to personal information about you to those SMUS employees and authorized administrators who need to know that information in order to administer your services. 6. Disclosure of Personal Information We do not sell our customer lists or other personal information. 7. Retention and Access to Your Personal Information We retain personal information only for so long as is necessary to fulfill the purpose for which it was collected and to meet our legal and contractual obligations. If personal information is no longer required, it will be destroyed or rendered anonymous. If you have a right of access, you or a person authorized in writing to act on your behalf may, with satisfactory identification and proof of entitlement, request access or, if applicable, request a correction of your personal information which SMUS has in its possession. The right to access is not absolute. For example, you do not have a right to access and we may decline your request for access if the information requested is subject to a legal privilege. We do not provide personal health information directly to individuals unless the individual provided it directly to us. Instead we provide access to personal health information through the individual’s health-care professional. 8. Contacting the SMUS Privacy and Information Sharing Officer Please contact us if you: Please include your name, address and, if applicable, your student number. The Privacy and Information Sharing OfficerRita Lord, CFOSt. Michaels University School3400 Richmond RdVictoria, BCV8P 4P5Email:privacy@smus.ca St. Michaels University School is an independent day and boarding school of 1,000 students from Junior Kindergarten to Grade 12 in Victoria, BC, Canada. Main Reception 3400 Richmond Road Victoria, BC, Canada, V8P 4P5 © St. Michaels University SchoolWebsite Feedback We are a proud member of: Event Details    '}]"
      ]
     },
     "execution_count": 13,
     "metadata": {},
     "output_type": "execute_result"
    }
   ],
   "source": [
    "pages_and_text = []\n",
    "for index, page in enumerate(df[\"Page Content\"].tolist()):\n",
    "    pages_and_text.append({\"page number\": index,\n",
    "                           \"page_char_count\": len(page),\n",
    "                           \"page_word_count\": len(page.split(\" \")),\n",
    "                           \"page_sentence_count\": len(page.split(\".\")),\n",
    "                           \"page_token_count\": len(page)/4, # 1 token ~ 4 characters\n",
    "                           \"text\": page})\n",
    "random.sample(pages_and_text, 1)"
   ]
  },
  {
   "cell_type": "code",
   "execution_count": 14,
   "metadata": {},
   "outputs": [
    {
     "data": {
      "text/html": [
       "<div>\n",
       "<style scoped>\n",
       "    .dataframe tbody tr th:only-of-type {\n",
       "        vertical-align: middle;\n",
       "    }\n",
       "\n",
       "    .dataframe tbody tr th {\n",
       "        vertical-align: top;\n",
       "    }\n",
       "\n",
       "    .dataframe thead th {\n",
       "        text-align: right;\n",
       "    }\n",
       "</style>\n",
       "<table border=\"1\" class=\"dataframe\">\n",
       "  <thead>\n",
       "    <tr style=\"text-align: right;\">\n",
       "      <th></th>\n",
       "      <th>page number</th>\n",
       "      <th>page_char_count</th>\n",
       "      <th>page_word_count</th>\n",
       "      <th>page_sentence_count</th>\n",
       "      <th>page_token_count</th>\n",
       "      <th>text</th>\n",
       "    </tr>\n",
       "  </thead>\n",
       "  <tbody>\n",
       "    <tr>\n",
       "      <th>0</th>\n",
       "      <td>0</td>\n",
       "      <td>1496</td>\n",
       "      <td>241</td>\n",
       "      <td>14</td>\n",
       "      <td>374.00</td>\n",
       "      <td>Explore Cookie Settings When you visit any...</td>\n",
       "    </tr>\n",
       "    <tr>\n",
       "      <th>1</th>\n",
       "      <td>1</td>\n",
       "      <td>3488</td>\n",
       "      <td>567</td>\n",
       "      <td>30</td>\n",
       "      <td>872.00</td>\n",
       "      <td>Breadcrumb Start Here Thank you for choosin...</td>\n",
       "    </tr>\n",
       "    <tr>\n",
       "      <th>2</th>\n",
       "      <td>2</td>\n",
       "      <td>1169</td>\n",
       "      <td>194</td>\n",
       "      <td>10</td>\n",
       "      <td>292.25</td>\n",
       "      <td>Breadcrumb  Admissions Publications If you ...</td>\n",
       "    </tr>\n",
       "    <tr>\n",
       "      <th>3</th>\n",
       "      <td>3</td>\n",
       "      <td>2809</td>\n",
       "      <td>462</td>\n",
       "      <td>20</td>\n",
       "      <td>702.25</td>\n",
       "      <td>Breadcrumb Middle School The Middle School ...</td>\n",
       "    </tr>\n",
       "    <tr>\n",
       "      <th>4</th>\n",
       "      <td>4</td>\n",
       "      <td>2167</td>\n",
       "      <td>345</td>\n",
       "      <td>15</td>\n",
       "      <td>541.75</td>\n",
       "      <td>Schaffter Hall for music (left) is home to ...</td>\n",
       "    </tr>\n",
       "  </tbody>\n",
       "</table>\n",
       "</div>"
      ],
      "text/plain": [
       "   page number  page_char_count  page_word_count  page_sentence_count  \\\n",
       "0            0             1496              241                   14   \n",
       "1            1             3488              567                   30   \n",
       "2            2             1169              194                   10   \n",
       "3            3             2809              462                   20   \n",
       "4            4             2167              345                   15   \n",
       "\n",
       "   page_token_count                                               text  \n",
       "0            374.00      Explore Cookie Settings When you visit any...  \n",
       "1            872.00     Breadcrumb Start Here Thank you for choosin...  \n",
       "2            292.25     Breadcrumb  Admissions Publications If you ...  \n",
       "3            702.25     Breadcrumb Middle School The Middle School ...  \n",
       "4            541.75     Schaffter Hall for music (left) is home to ...  "
      ]
     },
     "execution_count": 14,
     "metadata": {},
     "output_type": "execute_result"
    }
   ],
   "source": [
    "df = pd.DataFrame(pages_and_text)\n",
    "df.head()"
   ]
  },
  {
   "cell_type": "code",
   "execution_count": 15,
   "metadata": {},
   "outputs": [
    {
     "data": {
      "text/html": [
       "<div>\n",
       "<style scoped>\n",
       "    .dataframe tbody tr th:only-of-type {\n",
       "        vertical-align: middle;\n",
       "    }\n",
       "\n",
       "    .dataframe tbody tr th {\n",
       "        vertical-align: top;\n",
       "    }\n",
       "\n",
       "    .dataframe thead th {\n",
       "        text-align: right;\n",
       "    }\n",
       "</style>\n",
       "<table border=\"1\" class=\"dataframe\">\n",
       "  <thead>\n",
       "    <tr style=\"text-align: right;\">\n",
       "      <th></th>\n",
       "      <th>page number</th>\n",
       "      <th>page_char_count</th>\n",
       "      <th>page_word_count</th>\n",
       "      <th>page_sentence_count</th>\n",
       "      <th>page_token_count</th>\n",
       "    </tr>\n",
       "  </thead>\n",
       "  <tbody>\n",
       "    <tr>\n",
       "      <th>count</th>\n",
       "      <td>99.0</td>\n",
       "      <td>99.0</td>\n",
       "      <td>99.0</td>\n",
       "      <td>99.0</td>\n",
       "      <td>99.0</td>\n",
       "    </tr>\n",
       "    <tr>\n",
       "      <th>mean</th>\n",
       "      <td>49.0</td>\n",
       "      <td>3041.0</td>\n",
       "      <td>528.0</td>\n",
       "      <td>24.0</td>\n",
       "      <td>760.0</td>\n",
       "    </tr>\n",
       "    <tr>\n",
       "      <th>std</th>\n",
       "      <td>29.0</td>\n",
       "      <td>2867.0</td>\n",
       "      <td>497.0</td>\n",
       "      <td>27.0</td>\n",
       "      <td>717.0</td>\n",
       "    </tr>\n",
       "    <tr>\n",
       "      <th>min</th>\n",
       "      <td>0.0</td>\n",
       "      <td>162.0</td>\n",
       "      <td>23.0</td>\n",
       "      <td>1.0</td>\n",
       "      <td>40.0</td>\n",
       "    </tr>\n",
       "    <tr>\n",
       "      <th>25%</th>\n",
       "      <td>24.0</td>\n",
       "      <td>1180.0</td>\n",
       "      <td>196.0</td>\n",
       "      <td>10.0</td>\n",
       "      <td>295.0</td>\n",
       "    </tr>\n",
       "    <tr>\n",
       "      <th>50%</th>\n",
       "      <td>49.0</td>\n",
       "      <td>2517.0</td>\n",
       "      <td>467.0</td>\n",
       "      <td>17.0</td>\n",
       "      <td>629.0</td>\n",
       "    </tr>\n",
       "    <tr>\n",
       "      <th>75%</th>\n",
       "      <td>74.0</td>\n",
       "      <td>3641.0</td>\n",
       "      <td>665.0</td>\n",
       "      <td>29.0</td>\n",
       "      <td>910.0</td>\n",
       "    </tr>\n",
       "    <tr>\n",
       "      <th>max</th>\n",
       "      <td>98.0</td>\n",
       "      <td>18664.0</td>\n",
       "      <td>3216.0</td>\n",
       "      <td>180.0</td>\n",
       "      <td>4666.0</td>\n",
       "    </tr>\n",
       "  </tbody>\n",
       "</table>\n",
       "</div>"
      ],
      "text/plain": [
       "       page number  page_char_count  page_word_count  page_sentence_count  \\\n",
       "count         99.0             99.0             99.0                 99.0   \n",
       "mean          49.0           3041.0            528.0                 24.0   \n",
       "std           29.0           2867.0            497.0                 27.0   \n",
       "min            0.0            162.0             23.0                  1.0   \n",
       "25%           24.0           1180.0            196.0                 10.0   \n",
       "50%           49.0           2517.0            467.0                 17.0   \n",
       "75%           74.0           3641.0            665.0                 29.0   \n",
       "max           98.0          18664.0           3216.0                180.0   \n",
       "\n",
       "       page_token_count  \n",
       "count              99.0  \n",
       "mean              760.0  \n",
       "std               717.0  \n",
       "min                40.0  \n",
       "25%               295.0  \n",
       "50%               629.0  \n",
       "75%               910.0  \n",
       "max              4666.0  "
      ]
     },
     "execution_count": 15,
     "metadata": {},
     "output_type": "execute_result"
    }
   ],
   "source": [
    "df.describe().round()"
   ]
  },
  {
   "cell_type": "markdown",
   "metadata": {},
   "source": [
    "### Splitting pages into sentences\n",
    "\n",
    "- using spacy library"
   ]
  },
  {
   "cell_type": "code",
   "execution_count": 21,
   "metadata": {},
   "outputs": [
    {
     "data": {
      "text/plain": [
       "[This is a sentence., This another sentence., I like Elephants]"
      ]
     },
     "execution_count": 21,
     "metadata": {},
     "output_type": "execute_result"
    }
   ],
   "source": [
    "nlp = English()\n",
    "\n",
    "nlp.add_pipe(\"sentencizer\")\n",
    "\n",
    "doc = nlp(\"This is a sentence. This another sentence. I like Elephants\")"
   ]
  },
  {
   "cell_type": "code",
   "execution_count": 30,
   "metadata": {},
   "outputs": [
    {
     "name": "stderr",
     "output_type": "stream",
     "text": [
      "100%|██████████| 99/99 [00:00<00:00, 554.90it/s]\n"
     ]
    }
   ],
   "source": [
    "for item in tqdm(pages_and_text):\n",
    "    item[\"sentences\"] = list(nlp(item[\"text\"]).sents)\n",
    "\n",
    "    item[\"sentences\"] = [str(sent) for sent in item[\"sentences\"]]\n",
    "    item[\"page_sentence_count_spacy\"] = len(item[\"sentences\"])\n",
    "    "
   ]
  },
  {
   "cell_type": "code",
   "execution_count": 31,
   "metadata": {},
   "outputs": [
    {
     "data": {
      "text/plain": [
       "[{'page number': 75,\n",
       "  'page_char_count': 2930,\n",
       "  'page_word_count': 513,\n",
       "  'page_sentence_count': 24,\n",
       "  'page_token_count': 732.5,\n",
       "  'text': '   Breadcrumb  Food in Boarding Boarders at SMUS have their meals in Graves Hall, one of the most spectacular dining halls in all of Canada. You don’t need us to tell you that good food is important. And when you’re busy with school and your extracurricular activities, the last thing you will want to think about is “What’s for dinner?” Don’t worry – we have that covered with a nutritious, balanced diet. As a boarding student, you will be served three balanced meals a day: breakfast, lunch and dinner, as well as snacks throughout the day. On Sundays, boarders get a special brunch (a late breakfast/early lunch). All meals are served in Graves Hall in the Sun Centre, which is just steps from your boarding house. \"I like that if you want to be healthy, the dining hall has a lot of options. You can get so many fruits and yogurts and salads, and there\\'s also a hot meal. Having so many choices, there’s always something to eat.\"— Vivien from Shanghai, China Graves Hall Menu Learn more about dining at SMUS and find our current menu. On The Menu At SMUS, we provide you with a lot of options at every meal. Whether you’re hungry for a fresh-made hot dish, or you just want a soup and salad from the salad bar, you know you’ll always get a healthy and filling meal. The menu changes every day and you will get an opportunity to experience cuisine from other countries during regular theme nights. You can also suggest your favourite food to our chefs, or join the Boarding Food Committee, and have a say about what should be on the menu. And while healthy eating is a big priority, we know how satisfying it is to sometimes nourish your soul with a tasty treat (like our popular Pizza Thursdays!) Special Diets Celiac? Lactose intolerant? Allergic to certain foods? Don’t worry – we will accommodate your needs. Every meal has at least one vegetarian option, and if you have special dietary requirements or food allergies, let our chefs know in advance and they will prepare something especially for you. Snacks! You’ll have access to snacks in the Sun Centre dining hall\\xa0during recess and in the evening. You can use the kitchen facilities in your boarding house to store and prepare light snacks, like popcorn or a grilled cheese sandwich. Or why not grab a speciality coffee at the very popular The Howard Café in our Student Commons area? Downtown Cafés and Restaurants During free time, many boarders take the opportunity to visit the nearby coffee shops, cafés and restaurants. On the weekend, groups of boarders often head into downtown Victoria\\'s enviable restaurant scene to have a meal with their friends. St. Michaels University School is an independent day and boarding school of 1,000 students from Junior Kindergarten to Grade 12 in Victoria, BC, Canada. Main Reception 3400 Richmond Road Victoria, BC, Canada, V8P 4P5 © St. Michaels University SchoolWebsite Feedback We are a proud member of: Event Details    ',\n",
       "  'sentences': ['   Breadcrumb  Food in Boarding Boarders at SMUS have their meals in Graves Hall, one of the most spectacular dining halls in all of Canada.',\n",
       "   'You don’t need us to tell you that good food is important.',\n",
       "   'And when you’re busy with school and your extracurricular activities, the last thing you will want to think about is “What’s for dinner?”',\n",
       "   'Don’t worry – we have that covered with a nutritious, balanced diet.',\n",
       "   'As a boarding student, you will be served three balanced meals a day: breakfast, lunch and dinner, as well as snacks throughout the day.',\n",
       "   'On Sundays, boarders get a special brunch (a late breakfast/early lunch).',\n",
       "   'All meals are served in Graves Hall in the Sun Centre, which is just steps from your boarding house. \"',\n",
       "   'I like that if you want to be healthy, the dining hall has a lot of options.',\n",
       "   \"You can get so many fruits and yogurts and salads, and there's also a hot meal.\",\n",
       "   'Having so many choices, there’s always something to eat.\"—',\n",
       "   'Vivien from Shanghai, China Graves Hall Menu Learn more about dining at SMUS and find our current menu.',\n",
       "   'On The Menu At SMUS, we provide you with a lot of options at every meal.',\n",
       "   'Whether you’re hungry for a fresh-made hot dish, or you just want a soup and salad from the salad bar, you know you’ll always get a healthy and filling meal.',\n",
       "   'The menu changes every day and you will get an opportunity to experience cuisine from other countries during regular theme nights.',\n",
       "   'You can also suggest your favourite food to our chefs, or join the Boarding Food Committee, and have a say about what should be on the menu.',\n",
       "   'And while healthy eating is a big priority, we know how satisfying it is to sometimes nourish your soul with a tasty treat (like our popular Pizza Thursdays!)',\n",
       "   'Special Diets Celiac?',\n",
       "   'Lactose intolerant?',\n",
       "   'Allergic to certain foods?',\n",
       "   'Don’t worry – we will accommodate your needs.',\n",
       "   'Every meal has at least one vegetarian option, and if you have special dietary requirements or food allergies, let our chefs know in advance and they will prepare something especially for you.',\n",
       "   'Snacks!',\n",
       "   'You’ll have access to snacks in the Sun Centre dining hall\\xa0during recess and in the evening.',\n",
       "   'You can use the kitchen facilities in your boarding house to store and prepare light snacks, like popcorn or a grilled cheese sandwich.',\n",
       "   'Or why not grab a speciality coffee at the very popular The Howard Café in our Student Commons area?',\n",
       "   'Downtown Cafés and Restaurants During free time, many boarders take the opportunity to visit the nearby coffee shops, cafés and restaurants.',\n",
       "   \"On the weekend, groups of boarders often head into downtown Victoria's enviable restaurant scene to have a meal with their friends.\",\n",
       "   'St. Michaels University School is an independent day and boarding school of 1,000 students from Junior Kindergarten to Grade 12 in Victoria, BC, Canada.',\n",
       "   'Main Reception 3400 Richmond Road Victoria, BC, Canada, V8P 4P5 © St. Michaels University SchoolWebsite Feedback We are a proud member of: Event Details    '],\n",
       "  'page_sentence_count_spacy': 29}]"
      ]
     },
     "execution_count": 31,
     "metadata": {},
     "output_type": "execute_result"
    }
   ],
   "source": [
    "random.sample(pages_and_text, 1)"
   ]
  },
  {
   "cell_type": "code",
   "execution_count": 34,
   "metadata": {},
   "outputs": [
    {
     "data": {
      "text/html": [
       "<div>\n",
       "<style scoped>\n",
       "    .dataframe tbody tr th:only-of-type {\n",
       "        vertical-align: middle;\n",
       "    }\n",
       "\n",
       "    .dataframe tbody tr th {\n",
       "        vertical-align: top;\n",
       "    }\n",
       "\n",
       "    .dataframe thead th {\n",
       "        text-align: right;\n",
       "    }\n",
       "</style>\n",
       "<table border=\"1\" class=\"dataframe\">\n",
       "  <thead>\n",
       "    <tr style=\"text-align: right;\">\n",
       "      <th></th>\n",
       "      <th>page number</th>\n",
       "      <th>page_char_count</th>\n",
       "      <th>page_word_count</th>\n",
       "      <th>page_sentence_count</th>\n",
       "      <th>page_token_count</th>\n",
       "      <th>page_sentence_count_spacy</th>\n",
       "    </tr>\n",
       "  </thead>\n",
       "  <tbody>\n",
       "    <tr>\n",
       "      <th>count</th>\n",
       "      <td>99.00</td>\n",
       "      <td>99.00</td>\n",
       "      <td>99.00</td>\n",
       "      <td>99.00</td>\n",
       "      <td>99.00</td>\n",
       "      <td>99.00</td>\n",
       "    </tr>\n",
       "    <tr>\n",
       "      <th>mean</th>\n",
       "      <td>49.00</td>\n",
       "      <td>3041.46</td>\n",
       "      <td>528.09</td>\n",
       "      <td>24.30</td>\n",
       "      <td>760.37</td>\n",
       "      <td>21.33</td>\n",
       "    </tr>\n",
       "    <tr>\n",
       "      <th>std</th>\n",
       "      <td>28.72</td>\n",
       "      <td>2867.09</td>\n",
       "      <td>496.72</td>\n",
       "      <td>26.54</td>\n",
       "      <td>716.77</td>\n",
       "      <td>23.28</td>\n",
       "    </tr>\n",
       "    <tr>\n",
       "      <th>min</th>\n",
       "      <td>0.00</td>\n",
       "      <td>162.00</td>\n",
       "      <td>23.00</td>\n",
       "      <td>1.00</td>\n",
       "      <td>40.50</td>\n",
       "      <td>1.00</td>\n",
       "    </tr>\n",
       "    <tr>\n",
       "      <th>25%</th>\n",
       "      <td>24.50</td>\n",
       "      <td>1179.50</td>\n",
       "      <td>196.50</td>\n",
       "      <td>10.00</td>\n",
       "      <td>294.88</td>\n",
       "      <td>7.50</td>\n",
       "    </tr>\n",
       "    <tr>\n",
       "      <th>50%</th>\n",
       "      <td>49.00</td>\n",
       "      <td>2517.00</td>\n",
       "      <td>467.00</td>\n",
       "      <td>17.00</td>\n",
       "      <td>629.25</td>\n",
       "      <td>14.00</td>\n",
       "    </tr>\n",
       "    <tr>\n",
       "      <th>75%</th>\n",
       "      <td>73.50</td>\n",
       "      <td>3641.00</td>\n",
       "      <td>665.00</td>\n",
       "      <td>29.00</td>\n",
       "      <td>910.25</td>\n",
       "      <td>26.00</td>\n",
       "    </tr>\n",
       "    <tr>\n",
       "      <th>max</th>\n",
       "      <td>98.00</td>\n",
       "      <td>18664.00</td>\n",
       "      <td>3216.00</td>\n",
       "      <td>180.00</td>\n",
       "      <td>4666.00</td>\n",
       "      <td>143.00</td>\n",
       "    </tr>\n",
       "  </tbody>\n",
       "</table>\n",
       "</div>"
      ],
      "text/plain": [
       "       page number  page_char_count  page_word_count  page_sentence_count  \\\n",
       "count        99.00            99.00            99.00                99.00   \n",
       "mean         49.00          3041.46           528.09                24.30   \n",
       "std          28.72          2867.09           496.72                26.54   \n",
       "min           0.00           162.00            23.00                 1.00   \n",
       "25%          24.50          1179.50           196.50                10.00   \n",
       "50%          49.00          2517.00           467.00                17.00   \n",
       "75%          73.50          3641.00           665.00                29.00   \n",
       "max          98.00         18664.00          3216.00               180.00   \n",
       "\n",
       "       page_token_count  page_sentence_count_spacy  \n",
       "count             99.00                      99.00  \n",
       "mean             760.37                      21.33  \n",
       "std              716.77                      23.28  \n",
       "min               40.50                       1.00  \n",
       "25%              294.88                       7.50  \n",
       "50%              629.25                      14.00  \n",
       "75%              910.25                      26.00  \n",
       "max             4666.00                     143.00  "
      ]
     },
     "execution_count": 34,
     "metadata": {},
     "output_type": "execute_result"
    }
   ],
   "source": [
    "df = pd.DataFrame(pages_and_text)\n",
    "df.describe().round(2)"
   ]
  },
  {
   "cell_type": "markdown",
   "metadata": {},
   "source": [
    "### Chunking\n",
    "\n",
    "\n",
    "#### How to do?\n",
    "- experiment how much sentence used for one chunk of the information\n",
    "- it depends on each type of data\n",
    "\n",
    "#### Purpose\n",
    "- Our text is easier to filter\n",
    "- Our text Chunk can fit into our embedding model (limit size depends on the model)\n",
    "- Our context passed in LLMs will be more specific\n",
    "\n"
   ]
  },
  {
   "cell_type": "code",
   "execution_count": 37,
   "metadata": {},
   "outputs": [],
   "source": [
    "num_sentence_chuck_size = 10\n",
    "\n",
    "def split_list(input_list: list, slice_size: int = num_sentence_chuck_size) -> list[list[str]]:\n",
    "    return [input_list[i : i + slice_size] for i in range(0, len(input_list), slice_size)]\n"
   ]
  },
  {
   "cell_type": "code",
   "execution_count": 36,
   "metadata": {},
   "outputs": [
    {
     "name": "stderr",
     "output_type": "stream",
     "text": [
      "100%|██████████| 99/99 [00:00<00:00, 68082.65it/s]\n"
     ]
    }
   ],
   "source": [
    "for item in tqdm(pages_and_text):\n",
    "    item[\"sentence_chunks\"] = split_list(input_list=item[\"sentences\"],\n",
    "                                         slice_size=num_sentence_chuck_size)\n",
    "    item[\"num_chunk\"] = len(item[\"sentence_chunks\"])"
   ]
  },
  {
   "cell_type": "code",
   "execution_count": 38,
   "metadata": {},
   "outputs": [
    {
     "data": {
      "text/plain": [
       "[{'page number': 93,\n",
       "  'page_char_count': 1811,\n",
       "  'page_word_count': 336,\n",
       "  'page_sentence_count': 10,\n",
       "  'page_token_count': 452.75,\n",
       "  'text': '   Breadcrumb VIDEO: Primary Christmas Concert By\\n                  Kyle Slavin\\n                 -\\n            December 16, 2022 Tags: Share: After weeks of practice and rehearsals, our youngest Junior School students excitedly took to the stage this week to perform in a beautiful and fun Primary Christmas Concert. The show featured our Kindergarten, Grade 1 and Grade 2 students, as they performed songs from \"A Charlie Brown Christmas,\" songs inspired by \"\\'Twas the Night Before Christmas,\" and well-known songs adapted to have a Christmas twist. Thank you to Junior School music teacher Christopher Smith for all of his work preparing the students for the concert, as well as French teacher Stephanie Geehan \\'95 for teaching the students \"Vive le Vent\" – a French version of \"Jingle Bells.\" And a huge thank you to Junior School teacher Lindsey Ashton for recording the show to share with our families. We hope you enjoy watching it! Tags: Kyle Slavin Kyle Slavin was the school\\'s storyteller. Through words, photos and videos, he shared with the community all the amazing things that happen at the school. You might also be interested in Junior School Junior School NEWS - August 31, 2024 Successful Reggio-inspired conference kickstarts school year Junior School Junior School NEWS - August 26, 2024 Fresh and familiar faces set to lead SMUS Kindergarten contingent Faculty and Staff Faculty and Staff NEWS - July 8, 2024 Former Choral Music Teacher Madeleine Humer Appointed to Order of Canada St. Michaels University School is an independent day and boarding school of 1,000 students from Junior Kindergarten to Grade 12 in Victoria, BC, Canada. Main Reception 3400 Richmond Road Victoria, BC, Canada, V8P 4P5 © St. Michaels University SchoolWebsite Feedback We are a proud member of: Event Details    ',\n",
       "  'sentences': ['   Breadcrumb VIDEO: Primary Christmas Concert By\\n                  Kyle Slavin\\n                 -\\n            December 16, 2022 Tags: Share: After weeks of practice and rehearsals, our youngest Junior School students excitedly took to the stage this week to perform in a beautiful and fun Primary Christmas Concert.',\n",
       "   'The show featured our Kindergarten, Grade 1 and Grade 2 students, as they performed songs from \"A Charlie Brown Christmas,\" songs inspired by \"\\'Twas the Night Before Christmas,\" and well-known songs adapted to have a Christmas twist.',\n",
       "   'Thank you to Junior School music teacher Christopher Smith for all of his work preparing the students for the concert, as well as French teacher Stephanie Geehan \\'95 for teaching the students \"Vive le Vent\" – a French version of \"Jingle Bells.\"',\n",
       "   'And a huge thank you to Junior School teacher Lindsey Ashton for recording the show to share with our families.',\n",
       "   'We hope you enjoy watching it!',\n",
       "   \"Tags: Kyle Slavin Kyle Slavin was the school's storyteller.\",\n",
       "   'Through words, photos and videos, he shared with the community all the amazing things that happen at the school.',\n",
       "   'You might also be interested in Junior School Junior School NEWS - August 31, 2024 Successful Reggio-inspired conference kickstarts school year Junior School Junior School NEWS - August 26, 2024 Fresh and familiar faces set to lead SMUS Kindergarten contingent Faculty and Staff Faculty and Staff NEWS - July 8, 2024 Former Choral Music Teacher Madeleine Humer Appointed to Order of Canada St. Michaels University School is an independent day and boarding school of 1,000 students from Junior Kindergarten to Grade 12 in Victoria, BC, Canada.',\n",
       "   'Main Reception 3400 Richmond Road Victoria, BC, Canada, V8P 4P5 © St. Michaels University SchoolWebsite Feedback We are a proud member of: Event Details    '],\n",
       "  'page_sentence_count_spacy': 9,\n",
       "  'sentence_chunks': [['   Breadcrumb VIDEO: Primary Christmas Concert By\\n                  Kyle Slavin\\n                 -\\n            December 16, 2022 Tags: Share: After weeks of practice and rehearsals, our youngest Junior School students excitedly took to the stage this week to perform in a beautiful and fun Primary Christmas Concert.',\n",
       "    'The show featured our Kindergarten, Grade 1 and Grade 2 students, as they performed songs from \"A Charlie Brown Christmas,\" songs inspired by \"\\'Twas the Night Before Christmas,\" and well-known songs adapted to have a Christmas twist.',\n",
       "    'Thank you to Junior School music teacher Christopher Smith for all of his work preparing the students for the concert, as well as French teacher Stephanie Geehan \\'95 for teaching the students \"Vive le Vent\" – a French version of \"Jingle Bells.\"',\n",
       "    'And a huge thank you to Junior School teacher Lindsey Ashton for recording the show to share with our families.',\n",
       "    'We hope you enjoy watching it!',\n",
       "    \"Tags: Kyle Slavin Kyle Slavin was the school's storyteller.\",\n",
       "    'Through words, photos and videos, he shared with the community all the amazing things that happen at the school.',\n",
       "    'You might also be interested in Junior School Junior School NEWS - August 31, 2024 Successful Reggio-inspired conference kickstarts school year Junior School Junior School NEWS - August 26, 2024 Fresh and familiar faces set to lead SMUS Kindergarten contingent Faculty and Staff Faculty and Staff NEWS - July 8, 2024 Former Choral Music Teacher Madeleine Humer Appointed to Order of Canada St. Michaels University School is an independent day and boarding school of 1,000 students from Junior Kindergarten to Grade 12 in Victoria, BC, Canada.',\n",
       "    'Main Reception 3400 Richmond Road Victoria, BC, Canada, V8P 4P5 © St. Michaels University SchoolWebsite Feedback We are a proud member of: Event Details    ']],\n",
       "  'num_chunk': 1}]"
      ]
     },
     "execution_count": 38,
     "metadata": {},
     "output_type": "execute_result"
    }
   ],
   "source": [
    "random.sample(pages_and_text, 1)"
   ]
  },
  {
   "cell_type": "code",
   "execution_count": 39,
   "metadata": {},
   "outputs": [
    {
     "data": {
      "text/html": [
       "<div>\n",
       "<style scoped>\n",
       "    .dataframe tbody tr th:only-of-type {\n",
       "        vertical-align: middle;\n",
       "    }\n",
       "\n",
       "    .dataframe tbody tr th {\n",
       "        vertical-align: top;\n",
       "    }\n",
       "\n",
       "    .dataframe thead th {\n",
       "        text-align: right;\n",
       "    }\n",
       "</style>\n",
       "<table border=\"1\" class=\"dataframe\">\n",
       "  <thead>\n",
       "    <tr style=\"text-align: right;\">\n",
       "      <th></th>\n",
       "      <th>page number</th>\n",
       "      <th>page_char_count</th>\n",
       "      <th>page_word_count</th>\n",
       "      <th>page_sentence_count</th>\n",
       "      <th>page_token_count</th>\n",
       "      <th>page_sentence_count_spacy</th>\n",
       "      <th>num_chunk</th>\n",
       "    </tr>\n",
       "  </thead>\n",
       "  <tbody>\n",
       "    <tr>\n",
       "      <th>count</th>\n",
       "      <td>99.00</td>\n",
       "      <td>99.00</td>\n",
       "      <td>99.00</td>\n",
       "      <td>99.00</td>\n",
       "      <td>99.00</td>\n",
       "      <td>99.00</td>\n",
       "      <td>99.00</td>\n",
       "    </tr>\n",
       "    <tr>\n",
       "      <th>mean</th>\n",
       "      <td>49.00</td>\n",
       "      <td>3041.46</td>\n",
       "      <td>528.09</td>\n",
       "      <td>24.30</td>\n",
       "      <td>760.37</td>\n",
       "      <td>21.33</td>\n",
       "      <td>2.62</td>\n",
       "    </tr>\n",
       "    <tr>\n",
       "      <th>std</th>\n",
       "      <td>28.72</td>\n",
       "      <td>2867.09</td>\n",
       "      <td>496.72</td>\n",
       "      <td>26.54</td>\n",
       "      <td>716.77</td>\n",
       "      <td>23.28</td>\n",
       "      <td>2.37</td>\n",
       "    </tr>\n",
       "    <tr>\n",
       "      <th>min</th>\n",
       "      <td>0.00</td>\n",
       "      <td>162.00</td>\n",
       "      <td>23.00</td>\n",
       "      <td>1.00</td>\n",
       "      <td>40.50</td>\n",
       "      <td>1.00</td>\n",
       "      <td>1.00</td>\n",
       "    </tr>\n",
       "    <tr>\n",
       "      <th>25%</th>\n",
       "      <td>24.50</td>\n",
       "      <td>1179.50</td>\n",
       "      <td>196.50</td>\n",
       "      <td>10.00</td>\n",
       "      <td>294.88</td>\n",
       "      <td>7.50</td>\n",
       "      <td>1.00</td>\n",
       "    </tr>\n",
       "    <tr>\n",
       "      <th>50%</th>\n",
       "      <td>49.00</td>\n",
       "      <td>2517.00</td>\n",
       "      <td>467.00</td>\n",
       "      <td>17.00</td>\n",
       "      <td>629.25</td>\n",
       "      <td>14.00</td>\n",
       "      <td>2.00</td>\n",
       "    </tr>\n",
       "    <tr>\n",
       "      <th>75%</th>\n",
       "      <td>73.50</td>\n",
       "      <td>3641.00</td>\n",
       "      <td>665.00</td>\n",
       "      <td>29.00</td>\n",
       "      <td>910.25</td>\n",
       "      <td>26.00</td>\n",
       "      <td>3.00</td>\n",
       "    </tr>\n",
       "    <tr>\n",
       "      <th>max</th>\n",
       "      <td>98.00</td>\n",
       "      <td>18664.00</td>\n",
       "      <td>3216.00</td>\n",
       "      <td>180.00</td>\n",
       "      <td>4666.00</td>\n",
       "      <td>143.00</td>\n",
       "      <td>15.00</td>\n",
       "    </tr>\n",
       "  </tbody>\n",
       "</table>\n",
       "</div>"
      ],
      "text/plain": [
       "       page number  page_char_count  page_word_count  page_sentence_count  \\\n",
       "count        99.00            99.00            99.00                99.00   \n",
       "mean         49.00          3041.46           528.09                24.30   \n",
       "std          28.72          2867.09           496.72                26.54   \n",
       "min           0.00           162.00            23.00                 1.00   \n",
       "25%          24.50          1179.50           196.50                10.00   \n",
       "50%          49.00          2517.00           467.00                17.00   \n",
       "75%          73.50          3641.00           665.00                29.00   \n",
       "max          98.00         18664.00          3216.00               180.00   \n",
       "\n",
       "       page_token_count  page_sentence_count_spacy  num_chunk  \n",
       "count             99.00                      99.00      99.00  \n",
       "mean             760.37                      21.33       2.62  \n",
       "std              716.77                      23.28       2.37  \n",
       "min               40.50                       1.00       1.00  \n",
       "25%              294.88                       7.50       1.00  \n",
       "50%              629.25                      14.00       2.00  \n",
       "75%              910.25                      26.00       3.00  \n",
       "max             4666.00                     143.00      15.00  "
      ]
     },
     "execution_count": 39,
     "metadata": {},
     "output_type": "execute_result"
    }
   ],
   "source": [
    "df = pd.DataFrame(pages_and_text)\n",
    "df.describe().round(2)"
   ]
  },
  {
   "cell_type": "code",
   "execution_count": null,
   "metadata": {},
   "outputs": [],
   "source": []
  }
 ],
 "metadata": {
  "kernelspec": {
   "display_name": "voice-chat-python3-11",
   "language": "python",
   "name": "python3"
  },
  "language_info": {
   "codemirror_mode": {
    "name": "ipython",
    "version": 3
   },
   "file_extension": ".py",
   "mimetype": "text/x-python",
   "name": "python",
   "nbconvert_exporter": "python",
   "pygments_lexer": "ipython3",
   "version": "3.11.10"
  }
 },
 "nbformat": 4,
 "nbformat_minor": 2
}
