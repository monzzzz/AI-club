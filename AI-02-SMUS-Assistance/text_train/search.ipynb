{
 "cells": [
  {
   "cell_type": "code",
   "execution_count": 1,
   "metadata": {},
   "outputs": [
    {
     "name": "stdout",
     "output_type": "stream",
     "text": [
      "Requirement already satisfied: pandas in /opt/anaconda3/envs/voice-chat-python3-11/lib/python3.11/site-packages (2.2.2)\n",
      "Requirement already satisfied: numpy>=1.23.2 in /opt/anaconda3/envs/voice-chat-python3-11/lib/python3.11/site-packages (from pandas) (1.24.0)\n",
      "Requirement already satisfied: python-dateutil>=2.8.2 in /opt/anaconda3/envs/voice-chat-python3-11/lib/python3.11/site-packages (from pandas) (2.9.0)\n",
      "Requirement already satisfied: pytz>=2020.1 in /opt/anaconda3/envs/voice-chat-python3-11/lib/python3.11/site-packages (from pandas) (2024.2)\n",
      "Requirement already satisfied: tzdata>=2022.7 in /opt/anaconda3/envs/voice-chat-python3-11/lib/python3.11/site-packages (from pandas) (2024.1)\n",
      "Requirement already satisfied: six>=1.5 in /opt/anaconda3/envs/voice-chat-python3-11/lib/python3.11/site-packages (from python-dateutil>=2.8.2->pandas) (1.16.0)\n",
      "Requirement already satisfied: requests in /opt/anaconda3/envs/voice-chat-python3-11/lib/python3.11/site-packages (2.32.3)\n",
      "Requirement already satisfied: charset-normalizer<4,>=2 in /opt/anaconda3/envs/voice-chat-python3-11/lib/python3.11/site-packages (from requests) (3.3.2)\n",
      "Requirement already satisfied: idna<4,>=2.5 in /opt/anaconda3/envs/voice-chat-python3-11/lib/python3.11/site-packages (from requests) (3.8)\n",
      "Requirement already satisfied: urllib3<3,>=1.21.1 in /opt/anaconda3/envs/voice-chat-python3-11/lib/python3.11/site-packages (from requests) (2.2.3)\n",
      "Requirement already satisfied: certifi>=2017.4.17 in /opt/anaconda3/envs/voice-chat-python3-11/lib/python3.11/site-packages (from requests) (2024.8.30)\n",
      "Requirement already satisfied: beautifulsoup4 in /opt/anaconda3/envs/voice-chat-python3-11/lib/python3.11/site-packages (4.12.3)\n",
      "Requirement already satisfied: soupsieve>1.2 in /opt/anaconda3/envs/voice-chat-python3-11/lib/python3.11/site-packages (from beautifulsoup4) (2.6)\n"
     ]
    }
   ],
   "source": [
    "!pip install pandas\n",
    "!pip install requests\n",
    "!pip install beautifulsoup4"
   ]
  },
  {
   "cell_type": "code",
   "execution_count": 2,
   "metadata": {},
   "outputs": [],
   "source": [
    "import pandas as pd\n",
    "import requests\n",
    "from bs4 import BeautifulSoup"
   ]
  },
  {
   "cell_type": "markdown",
   "metadata": {},
   "source": [
    "## Scrap the school website (smus.ca)"
   ]
  },
  {
   "cell_type": "code",
   "execution_count": 3,
   "metadata": {},
   "outputs": [
    {
     "name": "stdout",
     "output_type": "stream",
     "text": [
      "0                                  https://www.smus.ca/\n",
      "1                        https://www.smus.ca/admissions\n",
      "2           https://www.smus.ca/admissions/publications\n",
      "3                     https://www.smus.ca/middle-school\n",
      "4          https://www.smus.ca/admissions/international\n",
      "                            ...                        \n",
      "94    https://www.smus.ca/news/value-added-smus-educ...\n",
      "95       https://www.smus.ca/news/a-warm-welcome-awaits\n",
      "96    https://www.smus.ca/news/gallery-happy-diwali-...\n",
      "97    https://www.smus.ca/news/video-primary-christm...\n",
      "98    https://www.smus.ca/news/long-tradition-financ...\n",
      "Name: URL, Length: 99, dtype: object\n"
     ]
    }
   ],
   "source": [
    "df = pd.read_csv('smus_page.csv')\n",
    "url_df = df[\"URL\"]\n",
    "print(url_df)\n",
    "url_list = url_df.tolist()\n",
    "\n",
    "def open_url(url):\n",
    "    response = requests.get(url)\n",
    "    \n",
    "    soup = BeautifulSoup(response.text, 'html.parser')\n",
    "    \n",
    "    important_content = \"\"\n",
    "    \n",
    "    for tag in soup.find_all(['h1', 'h2', 'h3', 'h4', 'h5', 'h6', 'p']):\n",
    "        important_content += tag.get_text(strip=True) + \" \"\n",
    "    return important_content\n",
    "\n",
    "content_list = [content for url in url_list if (content := open_url(url))]\n",
    "df.iloc[:len(content_list), 1] = content_list\n"
   ]
  },
  {
   "cell_type": "code",
   "execution_count": 4,
   "metadata": {},
   "outputs": [
    {
     "name": "stdout",
     "output_type": "stream",
     "text": [
      "0.0\n",
      "299.2\n",
      "996.8\n",
      "1230.6\n",
      "1792.4\n",
      "2225.8\n",
      "2482.8\n",
      "3132.6\n",
      "3731.4\n",
      "3788.0\n",
      "4040.6\n",
      "4783.8\n",
      "4840.4\n",
      "4935.4\n",
      "5137.4\n",
      "5782.8\n",
      "6787.6\n",
      "7391.2\n",
      "7971.0\n",
      "8133.6\n",
      "8950.2\n",
      "9868.4\n",
      "10720.0\n",
      "12087.2\n",
      "12620.6\n",
      "12858.6\n",
      "14847.2\n",
      "15212.4\n",
      "16361.6\n",
      "16403.6\n",
      "16537.6\n",
      "17950.0\n",
      "19392.4\n",
      "19662.6\n",
      "20133.8\n",
      "20166.2\n",
      "20199.2\n",
      "20255.8\n",
      "20392.8\n",
      "23560.4\n",
      "23781.2\n",
      "24042.0\n",
      "24548.4\n",
      "24962.6\n",
      "25456.6\n",
      "27204.8\n",
      "27840.8\n",
      "28287.2\n",
      "29111.0\n",
      "29816.4\n",
      "30633.0\n",
      "30926.0\n",
      "31488.8\n",
      "32028.6\n",
      "32686.6\n",
      "33348.0\n",
      "33674.2\n",
      "35192.0\n",
      "36263.6\n",
      "36677.2\n",
      "37298.0\n",
      "38000.2\n",
      "38812.6\n",
      "42536.0\n",
      "42777.2\n",
      "43942.0\n",
      "44125.8\n",
      "44445.6\n",
      "44450.6\n",
      "44766.4\n",
      "45322.6\n",
      "45406.2\n",
      "45600.6\n",
      "45716.4\n",
      "46160.0\n",
      "46357.6\n",
      "46943.6\n",
      "47086.2\n",
      "47297.2\n",
      "47477.4\n",
      "47651.6\n",
      "48952.2\n",
      "49069.2\n",
      "49277.6\n",
      "49993.2\n",
      "50731.4\n",
      "51222.4\n",
      "52321.2\n",
      "52941.2\n",
      "54100.6\n",
      "54868.4\n",
      "55590.4\n",
      "56073.8\n",
      "56567.8\n",
      "56920.6\n",
      "len of every page content:  288143\n",
      "average per page 2910.5353535353534\n"
     ]
    }
   ],
   "source": [
    "# (len(content) for content in content_list if content is not None)\n",
    "sum = 0\n",
    "for content in content_list:\n",
    "    if content is not None:\n",
    "        print(sum/5)\n",
    "        sum += len(content)\n",
    "    else:\n",
    "        print(\"None\")\n",
    "print(\"len of every page content: \", sum)\n",
    "print(\"average per page\", sum/len(df[\"Page Content\"]))"
   ]
  },
  {
   "cell_type": "code",
   "execution_count": 5,
   "metadata": {},
   "outputs": [],
   "source": [
    "df.to_csv('smus_page.csv', index=False)"
   ]
  },
  {
   "cell_type": "markdown",
   "metadata": {},
   "source": [
    "## From the SMUS Handbook 2024 - 2025"
   ]
  },
  {
   "cell_type": "code",
   "execution_count": 20,
   "metadata": {},
   "outputs": [
    {
     "name": "stdout",
     "output_type": "stream",
     "text": [
      "pages: 46\n",
      "{'/ArtBox': [0.0, 0.0, 612, 792], '/BleedBox': [0.0, 0.0, 612, 792], '/Contents': [IndirectObject(197, 0, 4645052176), IndirectObject(198, 0, 4645052176), IndirectObject(199, 0, 4645052176), IndirectObject(200, 0, 4645052176), IndirectObject(202, 0, 4645052176), IndirectObject(203, 0, 4645052176), IndirectObject(207, 0, 4645052176), IndirectObject(208, 0, 4645052176)], '/CropBox': [0.0, 0.0, 612, 792], '/Group': IndirectObject(235, 0, 4645052176), '/MediaBox': [0.0, 0.0, 612, 792], '/Parent': IndirectObject(180, 0, 4645052176), '/Resources': {'/ColorSpace': {'/CS0': IndirectObject(194, 0, 4645052176), '/CS1': IndirectObject(195, 0, 4645052176)}, '/ExtGState': {'/GS0': IndirectObject(196, 0, 4645052176), '/GS1': IndirectObject(217, 0, 4645052176), '/GS2': IndirectObject(201, 0, 4645052176), '/GS3': IndirectObject(218, 0, 4645052176)}, '/Font': {'/TT0': IndirectObject(204, 0, 4645052176)}, '/ProcSet': ['/PDF', '/Text', '/ImageC'], '/XObject': {'/Fm0': IndirectObject(227, 0, 4645052176), '/Fm1': IndirectObject(232, 0, 4645052176), '/Im0': IndirectObject(234, 0, 4645052176)}}, '/Rotate': 0, '/TrimBox': [0.0, 0.0, 612, 792], '/Type': '/Page', '/PieceInfo': {'/InDesign': {'/DocumentID': 'xmp.did:9457040A0E206811822A8C6BF5CDCC25', '/LastModified': 'D:20240917162317Z', '/NumberofPages': 1, '/OriginalDocumentID': 'xmp.did:e8be5128-3135-9544-9477-8de5723de6d0', '/PageTransformationMatrixList': {'/0': [1, 0.0, 0.0, 1, 0.0, 0.0]}, '/PageUIDList': {'/0': 338}, '/PageWidthList': {'/0': 612}}}}\n"
     ]
    }
   ],
   "source": [
    "from pypdf import PdfReader\n",
    "\n",
    "pdf_path = './resources/smus_handbook.pdf'\n",
    "\n",
    "reader = PdfReader(pdf_path)\n",
    "\n",
    "print(\"pages:\", len(reader.pages))\n",
    "\n",
    "page = reader.pages[0]\n",
    "print(page)"
   ]
  }
 ],
 "metadata": {
  "kernelspec": {
   "display_name": "rag",
   "language": "python",
   "name": "python3"
  },
  "language_info": {
   "codemirror_mode": {
    "name": "ipython",
    "version": 3
   },
   "file_extension": ".py",
   "mimetype": "text/x-python",
   "name": "python",
   "nbconvert_exporter": "python",
   "pygments_lexer": "ipython3",
   "version": "3.11.10"
  }
 },
 "nbformat": 4,
 "nbformat_minor": 2
}
